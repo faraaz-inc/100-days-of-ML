{
 "cells": [
  {
   "cell_type": "markdown",
   "id": "26c87de2",
   "metadata": {},
   "source": [
    "# Encoding Numerical Data"
   ]
  },
  {
   "cell_type": "markdown",
   "id": "5c4bea27",
   "metadata": {},
   "source": [
    "- There can be instances where categorical data performs better than numerical data\n",
    "    - E.g., No. of downlaods of an app"
   ]
  },
  {
   "cell_type": "markdown",
   "id": "3e37c46d",
   "metadata": {},
   "source": [
    "## Types of Encoding\n",
    "- Discretization\n",
    "- Binarization"
   ]
  },
  {
   "cell_type": "markdown",
   "id": "a9cbcfa4",
   "metadata": {},
   "source": [
    "# Discretization"
   ]
  },
  {
   "cell_type": "markdown",
   "id": "e8b44af9",
   "metadata": {},
   "source": [
    "- It is the process of transforming continuous variables into discrete variables by creating a set of contiguous variables that span the range of the variable's value.\n",
    "- Discretization is also called Binning, where bin is the alternative name for interval."
   ]
  },
  {
   "cell_type": "markdown",
   "id": "5412b543",
   "metadata": {},
   "source": [
    "## Why use discretization?\n",
    "- To handle outliers\n",
    "- To improve value spread"
   ]
  },
  {
   "cell_type": "markdown",
   "id": "977ea513",
   "metadata": {},
   "source": [
    "## Types of Discretization\n",
    "- Unsupervized Binning\n",
    "    - Equal width binning\n",
    "    - Equal frequency binning\n",
    "    - K-means binning\n",
    "- Supervised Binning\n",
    "    - Decision tree binning\n",
    "- Custom binning"
   ]
  },
  {
   "cell_type": "markdown",
   "id": "72161726",
   "metadata": {},
   "source": [
    "#### **Equal width binning / Uniform binning:**"
   ]
  },
  {
   "cell_type": "markdown",
   "id": "12238cbb",
   "metadata": {},
   "source": [
    "- Tell upfront the no of bins\n",
    "<pre> \n",
    "No. of intervals = max - min / no. of bins\n",
    "</pre>"
   ]
  },
  {
   "cell_type": "markdown",
   "id": "093f19fd",
   "metadata": {},
   "source": [
    "- Outliers are handled\n",
    "- Data spread doesn't change"
   ]
  },
  {
   "cell_type": "markdown",
   "id": "f8416423",
   "metadata": {},
   "source": [
    "#### **Equal frequency / Quantile binning:**"
   ]
  },
  {
   "cell_type": "markdown",
   "id": "df3dd2af",
   "metadata": {},
   "source": [
    "- Tell upfront no of bins\n",
    "- Each bin contains the percentage of observations\n",
    "- **E.g.,** intervals = 10 -> each interval will contain 10% of observations"
   ]
  },
  {
   "cell_type": "markdown",
   "id": "1c633c07",
   "metadata": {},
   "source": [
    "This technique is used more frequently as:\n",
    "- Handles outliers well\n",
    "- Improves spread of the data"
   ]
  },
  {
   "cell_type": "markdown",
   "id": "c6a257b7",
   "metadata": {},
   "source": [
    "#### **K-means binning:**"
   ]
  },
  {
   "cell_type": "markdown",
   "id": "0c44faa5",
   "metadata": {},
   "source": [
    "- Uses K-means clustering algorithm\n",
    "- Used when data is clustered"
   ]
  },
  {
   "cell_type": "markdown",
   "id": "b8cc3d77",
   "metadata": {},
   "source": [
    "- `Interval = centroid`\n",
    "- Centroids are created randomly based on no. of intervals\n",
    "- Distance between each datapoint and each centroid is calculated\n",
    "- Datapoints are assigned to the nearest centroid as a part of its cluster\n",
    "- After this mapping, centroids are moved to the mean of its datapoints\n",
    "- Now the entire thing is repeated, until there's no difference between two steps"
   ]
  },
  {
   "cell_type": "markdown",
   "id": "0507a984",
   "metadata": {},
   "source": [
    "- Can be used by scikit learn's `k-bins discretizer`\n",
    "- paramters:\n",
    "    - bins\n",
    "    - strategy = Uniform | Quantile | K-means\n",
    "    - encoding = Ordinal | OneHot Encoding"
   ]
  },
  {
   "cell_type": "markdown",
   "id": "ce48e8d7",
   "metadata": {},
   "source": []
  }
 ],
 "metadata": {
  "language_info": {
   "name": "python"
  }
 },
 "nbformat": 4,
 "nbformat_minor": 5
}
