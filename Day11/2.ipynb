{
 "cells": [
  {
   "cell_type": "markdown",
   "id": "315459db",
   "metadata": {},
   "source": [
    "# Rank, Axes, Shapes"
   ]
  },
  {
   "cell_type": "markdown",
   "id": "5a979351",
   "metadata": {},
   "source": [
    "`No. of dimensions of Tensor = Rank = Axis`\n"
   ]
  },
  {
   "cell_type": "markdown",
   "id": "a4776456",
   "metadata": {},
   "source": [
    "## Shape\n",
    "- No. of items that can be stored in an axis"
   ]
  },
  {
   "cell_type": "code",
   "execution_count": 2,
   "id": "60937189",
   "metadata": {},
   "outputs": [
    {
     "data": {
      "text/plain": [
       "array([[1, 2, 3],\n",
       "       [4, 5, 6],\n",
       "       [7, 8, 9]])"
      ]
     },
     "execution_count": 2,
     "metadata": {},
     "output_type": "execute_result"
    }
   ],
   "source": [
    "import numpy as np \n",
    "\n",
    "m1 = np.array([[1,2,3], [4,5,6], [7,8,9]])\n",
    "\n",
    "# Dimensions / axis / rank of above tensor = 2 (row and col)\n",
    "# Shape = (3,3)\n",
    "m1"
   ]
  },
  {
   "cell_type": "code",
   "execution_count": 3,
   "id": "2c1e259b",
   "metadata": {},
   "outputs": [
    {
     "data": {
      "text/plain": [
       "array([[1, 2, 3],\n",
       "       [4, 5, 6]])"
      ]
     },
     "execution_count": 3,
     "metadata": {},
     "output_type": "execute_result"
    }
   ],
   "source": [
    "m2 = np.array([[1,2,3], [4,5,6]])\n",
    "\n",
    "# Dimension = 2 (row and col)\n",
    "# Shape = (2,3)\n",
    "\n",
    "m2"
   ]
  },
  {
   "cell_type": "markdown",
   "id": "03771a49",
   "metadata": {},
   "source": [
    "## Size\n",
    "- No. of elements in Tensor\n",
    "- Multiply shape values together to get size"
   ]
  }
 ],
 "metadata": {
  "kernelspec": {
   "display_name": "venv",
   "language": "python",
   "name": "python3"
  },
  "language_info": {
   "codemirror_mode": {
    "name": "ipython",
    "version": 3
   },
   "file_extension": ".py",
   "mimetype": "text/x-python",
   "name": "python",
   "nbconvert_exporter": "python",
   "pygments_lexer": "ipython3",
   "version": "3.12.3"
  }
 },
 "nbformat": 4,
 "nbformat_minor": 5
}
