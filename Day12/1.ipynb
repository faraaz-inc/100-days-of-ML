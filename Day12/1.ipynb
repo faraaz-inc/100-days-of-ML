{
 "cells": [
  {
   "cell_type": "markdown",
   "id": "6562d29a",
   "metadata": {},
   "source": [
    "# Intro to Jupyter/Kaggle/Colab"
   ]
  }
 ],
 "metadata": {
  "language_info": {
   "name": "python"
  }
 },
 "nbformat": 4,
 "nbformat_minor": 5
}
