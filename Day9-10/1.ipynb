{
 "cells": [
  {
   "cell_type": "markdown",
   "id": "e6176629",
   "metadata": {},
   "source": [
    "# Machine Learning Development Life-cycle"
   ]
  },
  {
   "cell_type": "markdown",
   "id": "fe050f1a",
   "metadata": {},
   "source": [
    "<ol>\n",
    "    <li> Frame the problem </li>\n",
    "    <li> Gathering the data </li>\n",
    "    <li> Data Pre-Processing </li>\n",
    "    <li> Exploratory data analysis </li>\n",
    "    <li> Feature engineering and selection </li>\n",
    "    <li> Model training, evaluation and selection </li>\n",
    "    <li> Model deployment </li>\n",
    "    <li> Testing </li>\n",
    "    <li> Optimize </li>\n",
    "</ol>"
   ]
  }
 ],
 "metadata": {
  "language_info": {
   "name": "python"
  }
 },
 "nbformat": 4,
 "nbformat_minor": 5
}
